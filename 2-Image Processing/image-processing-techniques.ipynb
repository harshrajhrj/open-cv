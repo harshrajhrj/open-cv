{
 "cells": [
  {
   "cell_type": "code",
   "execution_count": 2,
   "metadata": {},
   "outputs": [],
   "source": [
    "import cv2 as cv"
   ]
  },
  {
   "cell_type": "code",
   "execution_count": 3,
   "metadata": {},
   "outputs": [],
   "source": [
    "img = cv.imread('image.png')"
   ]
  },
  {
   "cell_type": "code",
   "execution_count": 4,
   "metadata": {},
   "outputs": [],
   "source": [
    "(b, g, r) = cv.split(img)"
   ]
  },
  {
   "cell_type": "code",
   "execution_count": 5,
   "metadata": {},
   "outputs": [
    {
     "data": {
      "text/plain": [
       "-1"
      ]
     },
     "execution_count": 5,
     "metadata": {},
     "output_type": "execute_result"
    }
   ],
   "source": [
    "image_copy = cv.merge((b, g, r))\n",
    "cv.imshow('image', image_copy)\n",
    "cv.waitKey(0)"
   ]
  },
  {
   "cell_type": "code",
   "execution_count": 6,
   "metadata": {},
   "outputs": [
    {
     "data": {
      "text/plain": [
       "array([[38, 38, 38, ..., 38, 38, 38],\n",
       "       [38, 38, 38, ..., 38, 38, 38],\n",
       "       [38, 38, 38, ..., 38, 38, 38],\n",
       "       ...,\n",
       "       [29, 29, 29, ..., 29, 29, 29],\n",
       "       [28, 28, 28, ..., 28, 28, 28],\n",
       "       [28, 28, 28, ..., 28, 28, 28]], dtype=uint8)"
      ]
     },
     "execution_count": 6,
     "metadata": {},
     "output_type": "execute_result"
    }
   ],
   "source": [
    "# get the blue channel of the image\n",
    "b = img[:, :, 0]\n",
    "b"
   ]
  },
  {
   "cell_type": "code",
   "execution_count": 7,
   "metadata": {},
   "outputs": [
    {
     "data": {
      "text/plain": [
       "-1"
      ]
     },
     "execution_count": 7,
     "metadata": {},
     "output_type": "execute_result"
    }
   ],
   "source": [
    "image_without_blue = img.copy()\n",
    "image_without_blue[:, :, 0] = 0\n",
    "cv.imshow('image', image_without_blue)\n",
    "cv.waitKey(0)"
   ]
  },
  {
   "cell_type": "markdown",
   "metadata": {},
   "source": [
    "### Geometric transformations of images\n",
    "- Scaling\n",
    "- Translation\n",
    "- Rotation\n",
    "- Affine transformation\n",
    "- Perspective transformation\n",
    "- Cropping of images\n",
    "\n",
    "The two key functions to perform these geometric tranformations are `cv2.warpAffine()` and `cv2.warpPerspective()`.\n",
    "- The `cv2.warpAffine()` function transforms the source image by using the following 2 x 3 M transformation matrix:\n",
    "  - dst(x, y) = src(M11x + M12y + M13, M21x + M22y + M23)\n",
    "- The `cv2.warpPerspective()` function transforms the source image using the following  3 x 3 transformation matrix:\n",
    "  - dst(x, y) = src((M11x + M12y + M13) / (M31x + M32y + M33), (M21x + M22y + M23) / (M31xM32y + M33))"
   ]
  },
  {
   "cell_type": "code",
   "execution_count": 9,
   "metadata": {},
   "outputs": [
    {
     "data": {
      "text/plain": [
       "-1"
      ]
     },
     "execution_count": 9,
     "metadata": {},
     "output_type": "execute_result"
    }
   ],
   "source": [
    "# scaling an image\n",
    "width, height = img.shape[:2]\n",
    "resized_image = cv.resize(img, (width * 2, height * 2), interpolation=cv.INTER_LINEAR)\n",
    "cv.imshow('image', resized_image)\n",
    "cv.waitKey(0)"
   ]
  },
  {
   "cell_type": "code",
   "execution_count": 10,
   "metadata": {},
   "outputs": [
    {
     "data": {
      "text/plain": [
       "-1"
      ]
     },
     "execution_count": 10,
     "metadata": {},
     "output_type": "execute_result"
    }
   ],
   "source": [
    "# shrinking an image by factor of 2\n",
    "dst_image = cv.resize(img, None, fx=0.5, fy=0.5, interpolation=cv.INTER_AREA)\n",
    "cv.imshow('image', dst_image)\n",
    "cv.waitKey(0)"
   ]
  },
  {
   "cell_type": "markdown",
   "metadata": {},
   "source": []
  }
 ],
 "metadata": {
  "kernelspec": {
   "display_name": "Python 3",
   "language": "python",
   "name": "python3"
  },
  "language_info": {
   "codemirror_mode": {
    "name": "ipython",
    "version": 3
   },
   "file_extension": ".py",
   "mimetype": "text/x-python",
   "name": "python",
   "nbconvert_exporter": "python",
   "pygments_lexer": "ipython3",
   "version": "3.12.9"
  }
 },
 "nbformat": 4,
 "nbformat_minor": 2
}
